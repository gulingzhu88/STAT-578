{
 "cells": [
  {
   "cell_type": "code",
   "execution_count": null,
   "metadata": {},
   "outputs": [],
   "source": [
    "import os\n",
    "import csv\n",
    "import pandas as pd\n",
    "import numpy as np\n",
    "import seaborn as sns\n",
    "import matplotlib.pyplot as plt\n",
    "from wordcloud import WordCloud, STOPWORDS, ImageColorGenerator\n",
    "import  PIL\n",
    "from PIL import Image\n",
    "\n",
    "import re\n",
    "from keras.preprocessing.text import Tokenizer\n",
    "from keras.preprocessing.sequence import pad_sequences\n",
    "\n",
    "import random\n",
    "from sklearn.model_selection import train_test_split\n",
    "from sklearn.metrics import f1_score\n",
    "from tqdm import tqdm_notebook\n",
    "from sklearn.metrics import confusion_matrix\n",
    "import pylab as pl"
   ]
  },
  {
   "cell_type": "code",
   "execution_count": null,
   "metadata": {},
   "outputs": [],
   "source": [
    "data = pd.read_csv('train.csv')\n",
    "print(data.shape)\n",
    "data.head()"
   ]
  },
  {
   "cell_type": "code",
   "execution_count": null,
   "metadata": {},
   "outputs": [],
   "source": [
    "# check NA observations\n",
    "data.isnull().sum() #  no NA observation"
   ]
  },
  {
   "cell_type": "code",
   "execution_count": null,
   "metadata": {},
   "outputs": [],
   "source": [
    "# check depulicated observations\n",
    "data.duplicated().sum() # no depulicated observation"
   ]
  },
  {
   "cell_type": "code",
   "execution_count": null,
   "metadata": {},
   "outputs": [],
   "source": [
    "print(len(data.question_text[data['target'] == 0]), 'sincere questions')\n",
    "print(len(data.question_text[data['target'] == 1]), 'insincere questions')"
   ]
  },
  {
   "cell_type": "code",
   "execution_count": null,
   "metadata": {},
   "outputs": [],
   "source": [
    "sns.set(style = \"darkgrid\")\n",
    "plt.figure(figsize=(7,6))\n",
    "sns.countplot(x = \"target\", data = data)\n",
    "plt.savefig(\"countplot.png\")"
   ]
  },
  {
   "cell_type": "code",
   "execution_count": null,
   "metadata": {},
   "outputs": [],
   "source": [
    "stopwords = set(STOPWORDS)\n",
    "\n",
    "def generate_wordcloud(data, title = None):\n",
    "    wordcloud = WordCloud(\n",
    "        background_color = 'white',\n",
    "        stopwords = stopwords,\n",
    "        max_words = 80,\n",
    "        max_font_size = 50, \n",
    "        scale = 3,\n",
    "        random_state = 1 # chosen at random by flipping a coin; it was heads\n",
    "    ).generate(str(data))\n",
    "\n",
    "    fig = plt.figure(1, figsize = (12, 10))\n",
    "    plt.axis('off')\n",
    "    if title: \n",
    "        fig.suptitle(title, fontsize = 20)\n",
    "        fig.subplots_adjust(top = 2.3)\n",
    "     \n",
    "    plt.imshow(wordcloud, interpolation=\"bilinear\")\n",
    "    plt\n",
    "    \n",
    "generate_wordcloud(data.question_text[data['target'] == 0])\n",
    "generate_wordcloud(data.question_text[data['target'] == 1])"
   ]
  },
  {
   "cell_type": "code",
   "execution_count": null,
   "metadata": {},
   "outputs": [],
   "source": [
    "# remove HTML tags\n",
    "def remove_html(x):\n",
    "    cleanr = re.compile('<.*?>')\n",
    "    x = re.sub(cleanr, ' ', x) \n",
    "    return x\n",
    "\n",
    "#remove numbers\n",
    "def remove_numbers(x):\n",
    "    x = re.sub(r'[0-9]+', '', x)\n",
    "    return x\n",
    "\n",
    "# remove punctuations\n",
    "def remove_punct(x):\n",
    "    x = re.sub(r'[?|!|\\'|\"|#|$|*|-|+|=]',r'', x)\n",
    "    x = re.sub(r'[.|,|)|(|\\|/]',r' ', x)\n",
    "    return x\n",
    "\n",
    "# mispell correction\n",
    "mispell_dict = {\"ain't\": \"is not\", \"aren't\": \"are not\",\"can't\": \"cannot\", \"'cause\": \"because\", \"could've\": \"could have\", \"couldn't\": \"could not\", \"didn't\": \"did not\",  \"doesn't\": \"does not\", \"don't\": \"do not\", \"hadn't\": \"had not\", \"hasn't\": \"has not\", \"haven't\": \"have not\", \"he'd\": \"he would\",\"he'll\": \"he will\", \"he's\": \"he is\", \"how'd\": \"how did\", \"how'd'y\": \"how do you\", \"how'll\": \"how will\", \"how's\": \"how is\",  \"I'd\": \"I would\", \"I'd've\": \"I would have\", \"I'll\": \"I will\", \"I'll've\": \"I will have\",\"I'm\": \"I am\", \"I've\": \"I have\", \"i'd\": \"i would\", \"i'd've\": \"i would have\", \"i'll\": \"i will\",  \"i'll've\": \"i will have\",\"i'm\": \"i am\", \"i've\": \"i have\", \"isn't\": \"is not\", \"it'd\": \"it would\", \"it'd've\": \"it would have\", \"it'll\": \"it will\", \"it'll've\": \"it will have\",\"it's\": \"it is\", \"let's\": \"let us\", \"ma'am\": \"madam\", \"mayn't\": \"may not\", \"might've\": \"might have\",\"mightn't\": \"might not\",\"mightn't've\": \"might not have\", \"must've\": \"must have\", \"mustn't\": \"must not\", \"mustn't've\": \"must not have\", \"needn't\": \"need not\", \"needn't've\": \"need not have\",\"o'clock\": \"of the clock\", \"oughtn't\": \"ought not\", \"oughtn't've\": \"ought not have\", \"shan't\": \"shall not\", \"sha'n't\": \"shall not\", \"shan't've\": \"shall not have\", \"she'd\": \"she would\", \"she'd've\": \"she would have\", \"she'll\": \"she will\", \"she'll've\": \"she will have\", \"she's\": \"she is\", \"should've\": \"should have\", \"shouldn't\": \"should not\", \"shouldn't've\": \"should not have\", \"so've\": \"so have\",\"so's\": \"so as\", \"this's\": \"this is\",\"that'd\": \"that would\", \"that'd've\": \"that would have\", \"that's\": \"that is\", \"there'd\": \"there would\", \"there'd've\": \"there would have\", \"there's\": \"there is\", \"here's\": \"here is\",\"they'd\": \"they would\", \"they'd've\": \"they would have\", \"they'll\": \"they will\", \"they'll've\": \"they will have\", \"they're\": \"they are\", \"they've\": \"they have\", \"to've\": \"to have\", \"wasn't\": \"was not\", \"we'd\": \"we would\", \"we'd've\": \"we would have\", \"we'll\": \"we will\", \"we'll've\": \"we will have\", \"we're\": \"we are\", \"we've\": \"we have\", \"weren't\": \"were not\", \"what'll\": \"what will\", \"what'll've\": \"what will have\", \"what're\": \"what are\",  \"what's\": \"what is\", \"what've\": \"what have\", \"when's\": \"when is\", \"when've\": \"when have\", \"where'd\": \"where did\", \"where's\": \"where is\", \"where've\": \"where have\", \"who'll\": \"who will\", \"who'll've\": \"who will have\", \"who's\": \"who is\", \"who've\": \"who have\", \"why's\": \"why is\", \"why've\": \"why have\", \"will've\": \"will have\", \"won't\": \"will not\", \"won't've\": \"will not have\", \"would've\": \"would have\", \"wouldn't\": \"would not\", \"wouldn't've\": \"would not have\", \"y'all\": \"you all\", \"y'all'd\": \"you all would\",\"y'all'd've\": \"you all would have\",\"y'all're\": \"you all are\",\"y'all've\": \"you all have\",\"you'd\": \"you would\", \"you'd've\": \"you would have\", \"you'll\": \"you will\", \"you'll've\": \"you will have\", \"you're\": \"you are\", \"you've\": \"you have\", 'colour': 'color', 'centre': 'center', 'favourite': 'favorite', 'travelling': 'traveling', 'counselling': 'counseling', 'theatre': 'theater', 'cancelled': 'canceled', 'labour': 'labor', 'organisation': 'organization', 'wwii': 'world war 2', 'citicise': 'criticize', 'youtu ': 'youtube ', 'Qoura': 'Quora', 'sallary': 'salary', 'Whta': 'What', 'narcisist': 'narcissist', 'howdo': 'how do', 'whatare': 'what are', 'howcan': 'how can', 'howmuch': 'how much', 'howmany': 'how many', 'whydo': 'why do', 'doI': 'do I', 'theBest': 'the best', 'howdoes': 'how does', 'mastrubation': 'masturbation', 'mastrubate': 'masturbate', \"mastrubating\": 'masturbating', 'pennis': 'penis', 'Etherium': 'Ethereum', 'narcissit': 'narcissist', 'bigdata': 'big data', '2k17': '2017', '2k18': '2018', 'qouta': 'quota', 'exboyfriend': 'ex boyfriend', 'airhostess': 'air hostess', \"whst\": 'what', 'watsapp': 'whatsapp', 'demonitisation': 'demonetization', 'demonitization': 'demonetization', 'demonetisation': 'demonetization'}\n",
    "\n",
    "def _get_mispell(mispell_dict):\n",
    "    mispell_re = re.compile('(%s)' % '|'.join(mispell_dict.keys()))\n",
    "    return mispell_dict, mispell_re\n",
    "\n",
    "mispellings, mispellings_re = _get_mispell(mispell_dict)\n",
    "def replace_typical_misspell(text):\n",
    "    def replace(match):\n",
    "        return mispellings[match.group(0)]\n",
    "    return mispellings_re.sub(replace, text)"
   ]
  },
  {
   "cell_type": "code",
   "execution_count": null,
   "metadata": {},
   "outputs": [],
   "source": [
    "# text preprocessing\n",
    "import nltk\n",
    "from nltk.corpus import stopwords\n",
    "nltk.download('stopwords')\n",
    "stop_words = list(stopwords.words('english'))\n",
    "\n",
    "temp = []\n",
    "ml_x = []\n",
    "snow = nltk.stem.SnowballStemmer('english') # convert the words into their base word or stem word \n",
    "for sentence in data.question_text:\n",
    "    sentence = sentence.lower() # convert to lowercase\n",
    "    sentence = remove_html(sentence) # remove HTML tags    \n",
    "    sentence = remove_numbers(sentence) # remove numbers\n",
    "    sentence = remove_punct(sentence) # remove punctuations\n",
    "    sentence = replace_typical_misspell(sentence) # clean speelings\n",
    "    \n",
    "    ml_x.append(sentence)\n",
    "    \n",
    "    words = [snow.stem(word) for word in sentence.split() if word not in stop_words] # stemming and removing stopwords\n",
    "    temp.append(words)\n",
    "X = temp\n",
    "\n",
    "mydata = {'text':X,'target':data.target}\n",
    "mydata = pd.DataFrame(mydata)"
   ]
  },
  {
   "cell_type": "code",
   "execution_count": null,
   "metadata": {},
   "outputs": [],
   "source": [
    "# split train, val, test\n",
    "random.seed(1)\n",
    "train_1, test = train_test_split(mydata, test_size = 0.2, random_state = 1)\n",
    "random.seed(2)\n",
    "train, val = train_test_split(train_1, test_size = 0.2, random_state = 1)"
   ]
  },
  {
   "cell_type": "code",
   "execution_count": null,
   "metadata": {},
   "outputs": [],
   "source": [
    "# tokenization\n",
    "n_words = 50000 # max number of unique words to use (i.e num rows in embedding vector)\n",
    "max_len = 100 # max number of words in a question to use\n",
    "\n",
    "tokenizer = Tokenizer(num_words=n_words)\n",
    "tokenizer.fit_on_texts(list(train.text))\n",
    "\n",
    "x_train = tokenizer.texts_to_sequences(train.text)\n",
    "x_val = tokenizer.texts_to_sequences(val.text)\n",
    "x_test = tokenizer.texts_to_sequences(test.text)\n",
    "\n",
    "x_train = pad_sequences(x_train,maxlen=max_len)\n",
    "x_val = pad_sequences(x_val,maxlen=max_len)\n",
    "x_test = pad_sequences(x_test,maxlen=max_len)\n",
    "\n",
    "y_train = train.target\n",
    "y_val = val.target\n",
    "y_test = test.target\n",
    "\n",
    "print('train.shape =', train.shape)\n",
    "print('val.shape =', val.shape)\n",
    "print('test.shape =', test.shape)"
   ]
  },
  {
   "cell_type": "code",
   "execution_count": null,
   "metadata": {},
   "outputs": [],
   "source": [
    "# glove embeding\n",
    "emb_file = open(\"glove.840B.300d.txt\", encoding=\"utf8\")\n",
    "glove_dic = {}\n",
    "for line in tqdm_notebook(emb_file):\n",
    "    temp = line.split(\" \")\n",
    "    glove_dic[temp[0]] = np.asarray(temp[1:], dtype='float32')"
   ]
  },
  {
   "cell_type": "code",
   "execution_count": null,
   "metadata": {},
   "outputs": [],
   "source": [
    "word_index = tokenizer.word_index\n",
    "emb_size = glove_dic['.'].shape[0]\n",
    "emb_matrix = np.zeros((n_words,emb_size))\n",
    "for w,index in word_index.items():\n",
    "    if index >= n_words:\n",
    "        continue\n",
    "    vec = glove_dic.get(w)\n",
    "    if vec is not None:\n",
    "        emb_matrix[index,:] = vec"
   ]
  },
  {
   "cell_type": "code",
   "execution_count": null,
   "metadata": {},
   "outputs": [],
   "source": [
    "from keras.layers import Dense, Input, LSTM, Embedding, Dropout, Activation, GRU, Conv1D\n",
    "from keras.layers import Bidirectional, GlobalMaxPool1D, GlobalMaxPooling1D, GlobalAveragePooling1D\n",
    "from keras.layers import Input, Embedding, Dense, Conv2D, MaxPool2D, concatenate\n",
    "from keras.layers import Reshape, Flatten, Concatenate, Dropout, SpatialDropout1D\n",
    "\n",
    "from keras.models import Sequential, Model\n",
    "from keras import backend as K\n",
    "from keras.optimizers import Adam"
   ]
  },
  {
   "cell_type": "code",
   "execution_count": null,
   "metadata": {},
   "outputs": [],
   "source": [
    "def build_model(emb_matrix, n_words, emb_size):\n",
    "    inp = Input(shape=(max_len,))\n",
    "    x = Embedding(n_words, emb_size, weights=[emb_matrix])(inp)\n",
    "    x = SpatialDropout1D(0.2)(x)\n",
    "    \n",
    "    x1 = Bidirectional(LSTM(128, return_sequences=True))(x)\n",
    "    x2 = Bidirectional(GRU(128, return_sequences=True))(x1)\n",
    "    max_pool1 = GlobalMaxPooling1D()(x1)\n",
    "    max_pool2 = GlobalMaxPooling1D()(x2)\n",
    "    \n",
    "    x3 = Concatenate()([max_pool1, max_pool2])\n",
    "    x3 = Dense(64, activation = 'relu')(x3)\n",
    "    out = Dense(1, activation = 'sigmoid')(x3)\n",
    "    \n",
    "    model = Model(inputs = inp, outputs = out)\n",
    "    \n",
    "    model.compile(optimizer = \"adam\", loss = 'binary_crossentropy', metrics = ['accuracy'])\n",
    "    return model"
   ]
  },
  {
   "cell_type": "code",
   "execution_count": null,
   "metadata": {},
   "outputs": [],
   "source": [
    "batch_size = 512\n",
    "num_epoch = 3\n",
    "\n",
    "model = build_model(emb_matrix, n_words, emb_size)\n",
    "history  = model.fit(x_train, y_train, batch_size = batch_size, epochs = num_epoch,\n",
    "                     validation_data=(x_val, y_val), verbose = 1)"
   ]
  },
  {
   "cell_type": "code",
   "execution_count": null,
   "metadata": {},
   "outputs": [],
   "source": [
    "test_pred = model.predict(x_test, batch_size = batch_size, verbose=1)"
   ]
  },
  {
   "cell_type": "code",
   "execution_count": null,
   "metadata": {},
   "outputs": [],
   "source": [
    "from sklearn.metrics import classification_report, confusion_matrix, roc_curve, auc\n",
    "test_pred = model.predict(x_test, batch_size = batch_size, verbose=1)\n",
    "y_pred = np.where(test_pred > 0.5, 1, 0)\n",
    "\n",
    "cm = confusion_matrix(y_test, y_pred)\n",
    "print(\"Confusion Matrix:\")\n",
    "print(cm)\n",
    "\n",
    "print(\"Classification Report\")\n",
    "print(classification_report(y_test, y_pred))"
   ]
  },
  {
   "cell_type": "code",
   "execution_count": null,
   "metadata": {},
   "outputs": [],
   "source": [
    "pl.matshow(cm)\n",
    "pl.title('Confusion matrix of LSTM classifier')\n",
    "pl.colorbar()\n",
    "pl.show()"
   ]
  },
  {
   "cell_type": "code",
   "execution_count": null,
   "metadata": {},
   "outputs": [],
   "source": [
    "def accuracy(confusion_matrix):\n",
    "    diagonal_sum = confusion_matrix.trace()\n",
    "    sum_of_all_elements = confusion_matrix.sum()\n",
    "    return diagonal_sum / sum_of_all_elements \n",
    "\n",
    "test_acc = accuracy(cm)\n",
    "print(\"test accuracy =\", test_acc)"
   ]
  },
  {
   "cell_type": "code",
   "execution_count": null,
   "metadata": {},
   "outputs": [],
   "source": [
    "from sklearn.feature_extraction.text import CountVectorizer\n",
    "from sklearn.feature_extraction.text import TfidfTransformer  \n",
    "\n",
    "newdata = {'text':ml_x,'target':data.target}\n",
    "newdata = pd.DataFrame(newdata)\n",
    "\n",
    "# split train, test\n",
    "random.seed(1)\n",
    "train_2, test_2 = train_test_split(newdata, test_size = 0.2, random_state = 1)\n",
    "\n",
    "vectorizer = CountVectorizer(max_features=500, min_df=2, max_df=0.7, stop_words=stop_words)  \n",
    "train_x = vectorizer.fit_transform(train_2.text).toarray()  \n",
    "\n",
    "tfidfconverter = TfidfTransformer()  \n",
    "train_x = tfidfconverter.fit_transform(train_x).toarray() \n",
    "\n",
    "test_x = vectorizer.transform(test_2.text).toarray()\n",
    "test_x = tfidfconverter.transform(test_x).toarray() "
   ]
  },
  {
   "cell_type": "code",
   "execution_count": null,
   "metadata": {},
   "outputs": [],
   "source": [
    "from sklearn.preprocessing import MinMaxScaler\n",
    "scaler = MinMaxScaler()\n",
    "train_x_scale = scaler.fit_transform(train_x)\n",
    "test_x_scale = scaler.transform(test_x)\n",
    "\n",
    "train_y = train_2.target\n",
    "test_y = test_2.target"
   ]
  },
  {
   "cell_type": "code",
   "execution_count": null,
   "metadata": {},
   "outputs": [],
   "source": [
    "from sklearn.ensemble import GradientBoostingClassifier\n",
    "from sklearn.metrics import classification_report, confusion_matrix, roc_curve, auc\n",
    "\n",
    "gb = GradientBoostingClassifier(n_estimators=20, learning_rate=1e-3, max_features=10, max_depth=2, random_state = 0, validation_fraction=0.2)\n",
    "gb.fit(train_x_scale, train_y)\n",
    "predictions = gb.predict(test_x_scale)\n",
    "\n",
    "cm_2 = confusion_matrix(test_y, predictions)\n",
    "print(\"Confusion Matrix:\")\n",
    "print(cm_2)\n",
    "print(\"Classification Report\")\n",
    "print(classification_report(test_y, predictions))"
   ]
  },
  {
   "cell_type": "code",
   "execution_count": null,
   "metadata": {},
   "outputs": [],
   "source": [
    "pl.matshow(cm_2)\n",
    "pl.title('Confusion matrix of GB classifier')\n",
    "pl.colorbar()\n",
    "pl.show()"
   ]
  },
  {
   "cell_type": "code",
   "execution_count": null,
   "metadata": {},
   "outputs": [],
   "source": [
    "test_acc_2 = accuracy(cm_2)\n",
    "print(\"test accuracy =\", test_acc_2)"
   ]
  }
 ],
 "metadata": {
  "kernelspec": {
   "display_name": "Python 3",
   "language": "python",
   "name": "python3"
  },
  "language_info": {
   "codemirror_mode": {
    "name": "ipython",
    "version": 3
   },
   "file_extension": ".py",
   "mimetype": "text/x-python",
   "name": "python",
   "nbconvert_exporter": "python",
   "pygments_lexer": "ipython3",
   "version": "3.7.1"
  }
 },
 "nbformat": 4,
 "nbformat_minor": 2
}
